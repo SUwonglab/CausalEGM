{
 "cells": [
  {
   "attachments": {},
   "cell_type": "markdown",
   "id": "a9cf5fca",
   "metadata": {},
   "source": [
    "# Tutorial for Python Users\n",
    "\n",
    "In this introductory tutorial, we go through the different steps of a CausalEGM workflow.\n",
    "\n",
    "Users can use CausalEGM by **Python API** or **R API** or a **single command line** after installation.\n",
    "\n",
    "First of all, you need to install CausalEGM, please refer to the [install page](https://causalegm.readthedocs.io/en/latest/installation.html).\n",
    "\n"
   ]
  },
  {
   "cell_type": "markdown",
   "id": "157d39c3",
   "metadata": {},
   "source": [
    "## Use CausalEGM Python API"
   ]
  },
  {
   "cell_type": "code",
   "execution_count": 1,
   "id": "b102137f",
   "metadata": {},
   "outputs": [
    {
     "name": "stdout",
     "output_type": "stream",
     "text": [
      "Currently use version v0.3.4 of CausalEGM.\n"
     ]
    }
   ],
   "source": [
    "import CausalEGM as cegm\n",
    "print(\"Currently use version v%s of CausalEGM.\"%cegm.__version__)"
   ]
  },
  {
   "cell_type": "markdown",
   "id": "31661b36",
   "metadata": {},
   "source": [
    "### Configuring a CausalEGM model\n",
    "\n",
    "Before creating a CausalEGM model, a python `dict` object should be created for depoying the hyperparameters for a CausalEGM model, which include the dimensions for latent features, neural network architecture, etc.\n",
    "\n",
    "The detailed hyperparameters are described as follows.\n"
   ]
  },
  {
   "cell_type": "markdown",
   "id": "89da5a00",
   "metadata": {},
   "source": [
    "Config Parameters | Description\n",
    ":-:|:-:\n",
    "output_dir       | Output directory to save the results during the model training. *Default: \".\"*\n",
    "dataset       | Dataset name for indicating the input data. *Default: \"Mydata\"*\n",
    "z_dims  | Latent dimensions of the encoder outputs (e(V)_0~3). *Default: [3,3,6,6]*\n",
    "v_dim | Dimension of covariates.\n",
    "lr | Learning rate. *Default: 0.0002*\n",
    "g_units | Number of units for decoder/generator network G. *Default: [64,64,64,64,64]*.\n",
    "e_units | Number of units for encoder network E. *Default: [64,64,64,64,64]*.\n",
    "f_units | Number of units for F network. *Default: [64,32,8]*.\n",
    "h_units | Number of units for H network. *Default: [64,32,8]*.\n",
    "dz_units | Number of units for discriminator network in latent space. *Default: [64,32,8]*.\n",
    "dz_units | Number of units for discriminator network in covariate space. *Default: [64,32,8]*.\n",
    "alpha| Coefficient for reconstruction loss. *Default: 1*.\n",
    "beta| Coefficient for roundtrip loss. *Default: 1*.\n",
    "gamma| Coefficient for gradient penalty loss. *Default: 10*.\n",
    "g_d_freq| Frequency for updating discriminators and generators. *Default: 5*.\n",
    "save_res| Whether to save results during the model training. *Default: True*.\n",
    "save_model| Whether to save the model wegihts. *Default: False*.\n",
    "binary_treatment| Whether to use binary treatment setting. *Default: True*.\n",
    "use_z_rec| Use the reconstruction for latent features. *Default: True*.\n",
    "use_v_gan| Use the GAN distribution match for covariates. *Default: True*.\n",
    "x_min| Left bound for dose-response interval in continuous treatment settings. *Default: 0*.\n",
    "x_max| Right bound for dose-response interval in continuous treatment settings. *Default: 3*."
   ]
  },
  {
   "cell_type": "markdown",
   "id": "7b149da0",
   "metadata": {},
   "source": [
    "<div class=\"alert alert-info\">\n",
    "<b>Tips</b>\n",
    "\n",
    "Config parameters are necessary for creating a CausalEGM model. Here are some tips for configuring parameters.\n",
    "    \n",
    "1) **z_dims** has a noticeable impact on the performance, please refer to *src/configs* for guidance.\n",
    "    \n",
    "2) If **save_res** is *True*, results during training will be saved at **output_dir**\n",
    "    \n",
    "3) **use_v_gan** is recommended to be *True* under binary treatment setting and *False* under continous treatment setting.\n",
    "\n",
    "</div>"
   ]
  },
  {
   "cell_type": "markdown",
   "id": "15245239",
   "metadata": {},
   "source": [
    "### Examples for loading config parameters \n",
    "\n",
    "We provide many templates of the hyperparameters in `[path_to_CausalEGM]/src/configs` [folder](https://github.com/SUwonglab/CausalEGM/tree/main/src/configs) for different datasets/settings.\n",
    "\n",
    "Users can use `yaml` to load the hyperparameters as a python `dict` object easily.\n"
   ]
  },
  {
   "cell_type": "code",
   "execution_count": 2,
   "id": "37f5eaa6",
   "metadata": {},
   "outputs": [
    {
     "name": "stdout",
     "output_type": "stream",
     "text": [
      "{'dataset': 'Semi_acic', 'output_dir': '.', 'v_dim': 177, 'z_dims': [3, 3, 6, 6], 'lr': 0.0002, 'alpha': 1, 'beta': 1, 'gamma': 10, 'g_d_freq': 5, 'g_units': [64, 64, 64, 64, 64], 'e_units': [64, 64, 64, 64, 64], 'f_units': [64, 32, 8], 'h_units': [64, 32, 8], 'dz_units': [64, 32, 8], 'dv_units': [64, 32, 8], 'save_res': False, 'save_model': False, 'binary_treatment': True, 'use_z_rec': True, 'use_v_gan': True}\n"
     ]
    }
   ],
   "source": [
    "import yaml\n",
    "params = yaml.safe_load(open('src/configs/Semi_acic.yaml', 'r'))\n",
    "print(params)"
   ]
  },
  {
   "cell_type": "markdown",
   "id": "704a67a6",
   "metadata": {},
   "source": [
    "### Initilizing a CausalEGM model\n",
    "\n",
    "It is super easy to create a CausalEGM model when the hyperparameters (`params`) are prepared.\n",
    "\n",
    "`timestamp` should set to be *None* if you want to train a model from scratch rather than loading a pretrained model.\n",
    "\n",
    "`random_seed` denotes the random seed used for reproducing the results."
   ]
  },
  {
   "cell_type": "code",
   "execution_count": 3,
   "id": "a56f4bb8",
   "metadata": {},
   "outputs": [],
   "source": [
    "model = cegm.CausalEGM(params=params,random_seed=123)"
   ]
  },
  {
   "cell_type": "markdown",
   "id": "6d766161",
   "metadata": {},
   "source": [
    "### Data preparation  \n",
    "\n",
    "Before training a CausalEGM model, we need to provide the data in a triplet, which contains treatment (`x`), potential outcome (`y`), and covariates (`v`).\n",
    "\n",
    "Note that treatment (`x`) and potential outcome (`y`) should be either 1-dimensional array or with an additional axes of length one. Covariates should be a two-dimensional array."
   ]
  },
  {
   "cell_type": "markdown",
   "id": "e0ced44c",
   "metadata": {},
   "source": [
    "<div class=\"alert alert-info\">\n",
    "<b>Tips</b>\n",
    "\n",
    "There are three different ways to feed the training data to a CausalEGM model.\n",
    "    \n",
    "1) Loading an existing dataset from a data sampler.\n",
    "    \n",
    "2) Loading data from a python triplet list *[x,y,v]*.\n",
    "    \n",
    "3) Loading data from a csv, txt, or npz file, where an example is provided at `[path_to_CausalEGM]/test/demo.csv`.\n",
    "\n",
    "</div>"
   ]
  },
  {
   "cell_type": "code",
   "execution_count": 4,
   "id": "4f73f046",
   "metadata": {},
   "outputs": [
    {
     "name": "stdout",
     "output_type": "stream",
     "text": [
      "(50000, 1) (50000, 1) (50000, 177)\n"
     ]
    }
   ],
   "source": [
    "#get the data from the ACIC 2018 competition dataset with a specified ufid.\n",
    "x,y,v = cegm.Semi_acic_sampler(path='data/ACIC_2018',ufid='d5bd8e4814904c58a79d7cdcd7c2a1bb').load_all()\n",
    "print(x.shape,y.shape,v.shape)"
   ]
  },
  {
   "cell_type": "markdown",
   "id": "f09a2c0c",
   "metadata": {},
   "source": [
    "### Run CausalEGM model training\n",
    "\n",
    "Once data is ready, CausalEGM can be trained with the following parameters"
   ]
  },
  {
   "cell_type": "markdown",
   "id": "c3d76dbf",
   "metadata": {},
   "source": [
    "Training parameters | Description\n",
    ":-:|:-:\n",
    "data | List object containing the triplet data [X,Y,V]. *Default: None*.\n",
    "data_file | Str object denoting the path to the input file (csv, txt, npz). *Default: None*.\n",
    "sep | Str object denoting the delimiter for the input file. *Default: \\t*.\n",
    "header | Int object denoting row number(s) to use as the column names. *Default: 0*.\n",
    "normalize | Bool object denoting whether apply standard normalization to covariates. *Default: False*.\n",
    "batch_size | Int object denoting the batch size in training. *Default: 32*.\n",
    "n_iter | Int object denoting the training iterations. *Default: 30000*.\n",
    "batches_per_eval | Int object denoting the number of iterations per evaluation. *Default: 500*.\n",
    "batches_per_save | Int object denoting the number of iterations per save. *Default: 10000*.\n",
    "startoff | Int object denoting the beginning iterations to jump without save and evaluation. *Defalt: 0*.\n",
    "verbose | Bool object denoting whether showing the progress bar. *Default: True*.\n",
    "save_format| Str object denoting the format (csv, txt, npz) to save the results. *Default: txt*.\n"
   ]
  },
  {
   "cell_type": "code",
   "execution_count": 5,
   "id": "cba8c5c8",
   "metadata": {},
   "outputs": [
    {
     "name": "stdout",
     "output_type": "stream",
     "text": [
      "The average treatment effect (ATE) is  -0.0064516705\n"
     ]
    }
   ],
   "source": [
    "model.train(data=[x,y,v],n_iter=100,save_format='npy',verbose=False)"
   ]
  },
  {
   "cell_type": "markdown",
   "id": "96a28ada",
   "metadata": {},
   "source": [
    "We train a CausalEGM for 100 iterations for illustration purpose, `n_iter` is recommended to be 30000.\n",
    "\n",
    "The results are saved based on the `output_dir` parameter where `causal_pre_at_[iter_number].[format]` denotes the individual treatment effect (ITE) in binary treatment settings and average dose-response values in continuous treatment settings.\n",
    "\n",
    "`iter_number` denotes the training iteraction and `format` is determined by `save_format`, which can be `csv`,`txt`, or `npz`."
   ]
  },
  {
   "cell_type": "markdown",
   "id": "fb48b96a",
   "metadata": {},
   "source": [
    "## Use CausalEGM by a command-line interface (CLI)\n",
    "\n",
    "When installing the CausalEGM by `pip`, setuptools will add the console script to PATH and make it available for general use. This has advantage of being generalizeable to non-python scripts! This CLI takes a text file as input."
   ]
  },
  {
   "cell_type": "code",
   "execution_count": 6,
   "id": "bbdec536",
   "metadata": {},
   "outputs": [
    {
     "name": "stdout",
     "output_type": "stream",
     "text": [
      "usage: causalEGM [-h] -output_dir OUTPUT_DIR -input INPUT [-dataset DATASET]\r\n",
      "                 [--save-model | --no-save-model]\r\n",
      "                 [--binary-treatment | --no-binary-treatment]\r\n",
      "                 [-z_dims Z_DIMS [Z_DIMS ...]] [-lr LR] [-alpha ALPHA]\r\n",
      "                 [-beta BETA] [-gamma GAMMA] [-g_d_freq G_D_FREQ]\r\n",
      "                 [-g_units G_UNITS [G_UNITS ...]]\r\n",
      "                 [-e_units E_UNITS [E_UNITS ...]]\r\n",
      "                 [-f_units F_UNITS [F_UNITS ...]]\r\n",
      "                 [-h_units H_UNITS [H_UNITS ...]]\r\n",
      "                 [-dz_units DZ_UNITS [DZ_UNITS ...]]\r\n",
      "                 [-dv_units DV_UNITS [DV_UNITS ...]]\r\n",
      "                 [--use-z-rec | --no-use-z-rec] [--use-v-gan | --no-use-v-gan]\r\n",
      "                 [-batch_size BATCH_SIZE] [-n_iter N_ITER]\r\n",
      "                 [-startoff STARTOFF] [-batches_per_eval BATCHES_PER_EVAL]\r\n",
      "                 [-save_format SAVE_FORMAT] [--save_res | --no-save_res]\r\n",
      "                 [-seed SEED]\r\n",
      "\r\n",
      "CausalEGM: A general causal inference framework by encoding generative\r\n",
      "modeling - v0.3.4\r\n",
      "\r\n",
      "optional arguments:\r\n",
      "  -h, --help            show this help message and exit\r\n",
      "  -output_dir OUTPUT_DIR\r\n",
      "                        Output directory\r\n",
      "  -input INPUT          Input data file must be in csv or txt or npz format\r\n",
      "  -dataset DATASET      Dataset name\r\n",
      "  --save-model, --no-save-model\r\n",
      "                        whether to save model. (default: True)\r\n",
      "  --binary-treatment, --no-binary-treatment\r\n",
      "                        whether use binary treatment setting. (default: True)\r\n",
      "  -z_dims Z_DIMS [Z_DIMS ...]\r\n",
      "                        Latent dimensions of the four encoder outputs\r\n",
      "                        e(V)_0~3.\r\n",
      "  -lr LR                Learning rate for the optimizer (default: 0.0002).\r\n",
      "  -alpha ALPHA          Coefficient for reconstruction loss (default: 1).\r\n",
      "  -beta BETA            Coefficient for treatment and outcome MSE loss\r\n",
      "                        (default: 1).\r\n",
      "  -gamma GAMMA          Coefficient for gradient penalty loss (default: 10).\r\n",
      "  -g_d_freq G_D_FREQ    Frequency for updating discriminators and generators\r\n",
      "                        (default: 5).\r\n",
      "  -g_units G_UNITS [G_UNITS ...]\r\n",
      "                        Number of units for generator/decoder network\r\n",
      "                        (default: [64,64,64,64,64]).\r\n",
      "  -e_units E_UNITS [E_UNITS ...]\r\n",
      "                        Number of units for encoder network (default:\r\n",
      "                        [64,64,64,64,64]).\r\n",
      "  -f_units F_UNITS [F_UNITS ...]\r\n",
      "                        Number of units for f network (default: [64,32,8]).\r\n",
      "  -h_units H_UNITS [H_UNITS ...]\r\n",
      "                        Number of units for h network (default: [64,32,8]).\r\n",
      "  -dz_units DZ_UNITS [DZ_UNITS ...]\r\n",
      "                        Number of units for discriminator network in latent\r\n",
      "                        space (default: [64,32,8]).\r\n",
      "  -dv_units DV_UNITS [DV_UNITS ...]\r\n",
      "                        Number of units for discriminator network in\r\n",
      "                        confounder space (default: [64,32,8]).\r\n",
      "  --use-z-rec, --no-use-z-rec\r\n",
      "                        Use the reconstruction for latent features. (default:\r\n",
      "                        True)\r\n",
      "  --use-v-gan, --no-use-v-gan\r\n",
      "                        Use the GAN distribution match for covariates.\r\n",
      "                        (default: True)\r\n",
      "  -batch_size BATCH_SIZE\r\n",
      "                        Batch size (default: 32).\r\n",
      "  -n_iter N_ITER        Number of iterations (default: 30000).\r\n",
      "  -startoff STARTOFF    Iteration for starting evaluation (default: 0).\r\n",
      "  -batches_per_eval BATCHES_PER_EVAL\r\n",
      "                        Number of iterations per evaluation (default: 500).\r\n",
      "  -save_format SAVE_FORMAT\r\n",
      "                        Saving format (default: txt)\r\n",
      "  --save_res, --no-save_res\r\n",
      "                        Whether to save results during training. (default:\r\n",
      "                        True)\r\n",
      "  -seed SEED            Random seed for reproduction (default: 123).\r\n"
     ]
    }
   ],
   "source": [
    "!causalEGM -h"
   ]
  },
  {
   "cell_type": "markdown",
   "id": "4a52c20b",
   "metadata": {},
   "source": [
    "The parameters are consistent with the `Python APIs`. Here, we use a demo data for an example!"
   ]
  },
  {
   "cell_type": "code",
   "execution_count": 7,
   "id": "fc1457a7",
   "metadata": {},
   "outputs": [
    {
     "name": "stdout",
     "output_type": "stream",
     "text": [
      "2023-03-20 12:57:23.620713: W tensorflow/stream_executor/cuda/cuda_driver.cc:374] A non-primary context 0x57fa5c0 for device 0 exists before initializing the StreamExecutor. The primary context is now 0. We haven't verified StreamExecutor works with that.\r\n",
      "2023-03-20 12:57:23.620890: F tensorflow/core/platform/statusor.cc:33] Attempting to fetch value instead of handling error INTERNAL: failed initializing StreamExecutor for CUDA device ordinal 0: INTERNAL: failed call to cuDevicePrimaryCtxRetain: CUDA_ERROR_DEVICE_UNAVAILABLE: CUDA-capable device(s) is/are busy or unavailable\r\n"
     ]
    }
   ],
   "source": [
    "!causalEGM -input test/demo.csv -output_dir ./ -n_iter 100 -startoff 0 -batches_per_eval 50"
   ]
  },
  {
   "cell_type": "code",
   "execution_count": null,
   "id": "f442009f",
   "metadata": {},
   "outputs": [],
   "source": []
  }
 ],
 "metadata": {
  "kernelspec": {
   "display_name": "Python 3 (ipykernel)",
   "language": "python",
   "name": "python3"
  },
  "language_info": {
   "codemirror_mode": {
    "name": "ipython",
    "version": 3
   },
   "file_extension": ".py",
   "mimetype": "text/x-python",
   "name": "python",
   "nbconvert_exporter": "python",
   "pygments_lexer": "ipython3",
   "version": "3.9.0"
  }
 },
 "nbformat": 4,
 "nbformat_minor": 5
}
